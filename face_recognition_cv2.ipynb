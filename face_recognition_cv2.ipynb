{
  "nbformat": 4,
  "nbformat_minor": 0,
  "metadata": {
    "colab": {
      "name": "face recognition_cv2.ipynb",
      "version": "0.3.2",
      "provenance": [],
      "include_colab_link": true
    },
    "kernelspec": {
      "name": "python3",
      "display_name": "Python 3"
    }
  },
  "cells": [
    {
      "cell_type": "markdown",
      "metadata": {
        "id": "view-in-github",
        "colab_type": "text"
      },
      "source": [
        "<a href=\"https://colab.research.google.com/github/anguslou/face-recognition-by-openCV/blob/master/face_recognition_cv2.ipynb\" target=\"_parent\"><img src=\"https://colab.research.google.com/assets/colab-badge.svg\" alt=\"Open In Colab\"/></a>"
      ]
    },
    {
      "metadata": {
        "id": "w28Zz7E_zw_J",
        "colab_type": "code",
        "colab": {}
      },
      "cell_type": "code",
      "source": [
        "# Face Recognition\n",
        "\n",
        "import cv2\n",
        "\n",
        "face_cascade = cv2.CascadeClassifier('haarcascade_frontalface_default.xml') # We load the cascade for the face.\n",
        "eye_cascade = cv2.CascadeClassifier('haarcascade_eye.xml') # We load the cascade for the eyes.\n",
        "\n",
        "def detect(gray, frame): # We create a function that takes as input the image in black and white (gray) and the original image (frame), and that will return the same image with the detector rectangles. \n",
        "    faces = face_cascade.detectMultiScale(gray, 1.3, 5) # We apply the detectMultiScale method from the face cascade to locate one or several faces in the image.\n",
        "    for (x, y, w, h) in faces: # For each detected face:\n",
        "        cv2.rectangle(frame, (x, y), (x+w, y+h), (255, 0, 0), 2) # We paint a rectangle around the face.\n",
        "        roi_gray = gray[y:y+h, x:x+w] # We get the region of interest in the black and white image.\n",
        "        roi_color = frame[y:y+h, x:x+w] # We get the region of interest in the colored image.\n",
        "        eyes = eye_cascade.detectMultiScale(roi_gray, 1.1, 3) # We apply the detectMultiScale method to locate one or several eyes in the image.\n",
        "        for (ex, ey, ew, eh) in eyes: # For each detected eye:\n",
        "            cv2.rectangle(roi_color,(ex, ey),(ex+ew, ey+eh), (0, 255, 0), 2) # We paint a rectangle around the eyes, but inside the referential of the face.\n",
        "    return frame # We return the image with the detector rectangles.\n",
        "\n",
        "video_capture = cv2.VideoCapture(0) # We turn the webcam on. 0 = built-in cam, 1 = external cam\n",
        "\n",
        "while True: # We repeat infinitely (until break):\n",
        "    _, frame = video_capture.read() # We get the last frame. First element return from VideoCapture method will be ignored\n",
        "    gray = cv2.cvtColor(frame, cv2.COLOR_BGR2GRAY) # We do some colour transformations into grey version.\n",
        "    canvas = detect(gray, frame) # We get the output of our detect function.\n",
        "    cv2.imshow('Video', canvas) # We display the outputs.\n",
        "    if cv2.waitKey(1) & 0xFF == ord('q'): # If we type 'q' on the keyboard:\n",
        "        break # We stop the loop.\n",
        "\n",
        "video_capture.release() # We turn the webcam off.\n",
        "cv2.destroyAllWindows() # We destroy all the windows inside which the images were displayed."
      ],
      "execution_count": 0,
      "outputs": []
    }
  ]
}